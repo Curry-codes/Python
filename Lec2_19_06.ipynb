{
  "nbformat": 4,
  "nbformat_minor": 0,
  "metadata": {
    "colab": {
      "provenance": [],
      "authorship_tag": "ABX9TyMzeYTk6xZ/mYZSA91qt4YZ",
      "include_colab_link": true
    },
    "kernelspec": {
      "name": "python3",
      "display_name": "Python 3"
    },
    "language_info": {
      "name": "python"
    }
  },
  "cells": [
    {
      "cell_type": "markdown",
      "metadata": {
        "id": "view-in-github",
        "colab_type": "text"
      },
      "source": [
        "<a href=\"https://colab.research.google.com/github/Curry-codes/Python/blob/main/Lec2_19_06.ipynb\" target=\"_parent\"><img src=\"https://colab.research.google.com/assets/colab-badge.svg\" alt=\"Open In Colab\"/></a>"
      ]
    },
    {
      "cell_type": "code",
      "execution_count": null,
      "metadata": {
        "colab": {
          "base_uri": "https://localhost:8080/"
        },
        "collapsed": true,
        "id": "JhCL-r9xw9y_",
        "outputId": "e7a1368d-32e1-42bb-89a4-6c6348ac5ed1"
      },
      "outputs": [
        {
          "output_type": "stream",
          "name": "stdout",
          "text": [
            "no 12\n",
            "no 23\n",
            "5\n"
          ]
        }
      ],
      "source": [
        "a=int(input('no 1'))\n",
        "b=int(input('no 2'))\n",
        "sum=a+b\n",
        "print(sum)"
      ]
    },
    {
      "cell_type": "code",
      "source": [
        "a=int(input('no 1:'))\n",
        "b=int(input('no 2:'))\n",
        "print('Sum=', a+b)\n",
        "print('Sub=', a-b)\n",
        "print('Mul=', a*b)\n",
        "print('Div=', a/b)"
      ],
      "metadata": {
        "colab": {
          "base_uri": "https://localhost:8080/"
        },
        "id": "QOiL9CW63Wwu",
        "outputId": "2ed68ec3-9d6d-4ef6-c4da-da2fa989c696"
      },
      "execution_count": null,
      "outputs": [
        {
          "output_type": "stream",
          "name": "stdout",
          "text": [
            "no 1:2\n",
            "no 2:3\n",
            "Sum= 5\n",
            "Sub= -1\n",
            "Mul= 6\n",
            "Div= 0.6666666666666666\n"
          ]
        }
      ]
    },
    {
      "cell_type": "code",
      "source": [
        "name=\"Caris\"\n",
        "print(name[1])"
      ],
      "metadata": {
        "colab": {
          "base_uri": "https://localhost:8080/"
        },
        "id": "F4EZ67pW6V1w",
        "outputId": "0d62458e-b6ee-40ac-d332-6b3c8f76d083"
      },
      "execution_count": null,
      "outputs": [
        {
          "output_type": "stream",
          "name": "stdout",
          "text": [
            "a\n"
          ]
        }
      ]
    },
    {
      "cell_type": "code",
      "source": [
        "\n",
        "test=1000\n",
        "print(test[1])"
      ],
      "metadata": {
        "colab": {
          "base_uri": "https://localhost:8080/",
          "height": 245
        },
        "collapsed": true,
        "id": "PDyb33_Q6u87",
        "outputId": "5bb43839-e720-45c4-8567-fcb234601893"
      },
      "execution_count": null,
      "outputs": [
        {
          "output_type": "error",
          "ename": "TypeError",
          "evalue": "'int' object is not subscriptable",
          "traceback": [
            "\u001b[0;31m---------------------------------------------------------------------------\u001b[0m",
            "\u001b[0;31mTypeError\u001b[0m                                 Traceback (most recent call last)",
            "\u001b[0;32m<ipython-input-16-5b182c00e1e6>\u001b[0m in \u001b[0;36m<cell line: 2>\u001b[0;34m()\u001b[0m\n\u001b[1;32m      1\u001b[0m \u001b[0mtest\u001b[0m\u001b[0;34m=\u001b[0m\u001b[0;36m1000\u001b[0m\u001b[0;34m\u001b[0m\u001b[0;34m\u001b[0m\u001b[0m\n\u001b[0;32m----> 2\u001b[0;31m \u001b[0mprint\u001b[0m\u001b[0;34m(\u001b[0m\u001b[0mtest\u001b[0m\u001b[0;34m[\u001b[0m\u001b[0;36m1\u001b[0m\u001b[0;34m]\u001b[0m\u001b[0;34m)\u001b[0m\u001b[0;34m\u001b[0m\u001b[0;34m\u001b[0m\u001b[0m\n\u001b[0m",
            "\u001b[0;31mTypeError\u001b[0m: 'int' object is not subscriptable"
          ]
        }
      ]
    },
    {
      "cell_type": "code",
      "source": [
        "greet=\"hello world\"\n",
        "print(greet[0:5])"
      ],
      "metadata": {
        "colab": {
          "base_uri": "https://localhost:8080/"
        },
        "id": "S-xVpU8q8OVC",
        "outputId": "1f8b96d4-a4b8-4b15-9752-ffaa9c2b8206"
      },
      "execution_count": null,
      "outputs": [
        {
          "output_type": "stream",
          "name": "stdout",
          "text": [
            "hello\n"
          ]
        }
      ]
    },
    {
      "cell_type": "code",
      "source": [
        "greet=\"hello world\"\n",
        "print(greet[0:])"
      ],
      "metadata": {
        "colab": {
          "base_uri": "https://localhost:8080/"
        },
        "id": "2ZrRJNeG9nb8",
        "outputId": "f66fee7d-ba65-4e46-b356-2bf358bd1f4c"
      },
      "execution_count": null,
      "outputs": [
        {
          "output_type": "stream",
          "name": "stdout",
          "text": [
            "hello world\n"
          ]
        }
      ]
    },
    {
      "cell_type": "code",
      "source": [
        "greet=\"hello world\"\n",
        "print(greet[0:11:2])"
      ],
      "metadata": {
        "colab": {
          "base_uri": "https://localhost:8080/"
        },
        "id": "R0I67X0q9vmz",
        "outputId": "da32e413-cbf7-4776-e5f0-c64bb86959e6"
      },
      "execution_count": null,
      "outputs": [
        {
          "output_type": "stream",
          "name": "stdout",
          "text": [
            "hlowrd\n"
          ]
        }
      ]
    },
    {
      "cell_type": "code",
      "source": [
        "greet=\"hello world\"\n",
        "print(greet[0::2])"
      ],
      "metadata": {
        "colab": {
          "base_uri": "https://localhost:8080/"
        },
        "id": "z9oj9l8F95_z",
        "outputId": "9b5c93a1-7869-49c9-f149-25a89a513ad7"
      },
      "execution_count": null,
      "outputs": [
        {
          "output_type": "stream",
          "name": "stdout",
          "text": [
            "hlowrd\n"
          ]
        }
      ]
    },
    {
      "cell_type": "code",
      "source": [
        "greet=\"hello world\"\n",
        "print(greet[0:1000])"
      ],
      "metadata": {
        "colab": {
          "base_uri": "https://localhost:8080/"
        },
        "id": "QZj45X1c-owB",
        "outputId": "dfb18c15-9c2f-4619-f176-ae89bf936222"
      },
      "execution_count": null,
      "outputs": [
        {
          "output_type": "stream",
          "name": "stdout",
          "text": [
            "hello world\n"
          ]
        }
      ]
    },
    {
      "cell_type": "code",
      "source": [
        "greet=\"hello world\"\n",
        "print(\"z\"+greet[1:6],'M'+ greet[7:11])"
      ],
      "metadata": {
        "colab": {
          "base_uri": "https://localhost:8080/"
        },
        "id": "etVsXeTd-2Up",
        "outputId": "5a61ee10-284b-4a68-92fe-e525824276e6"
      },
      "execution_count": null,
      "outputs": [
        {
          "output_type": "stream",
          "name": "stdout",
          "text": [
            "zello  Morld\n"
          ]
        }
      ]
    },
    {
      "cell_type": "code",
      "source": [
        "greet=\"hello world\"\n",
        "print(\"z\"+greet[-10:-6],'M'+ greet[-4:])"
      ],
      "metadata": {
        "colab": {
          "base_uri": "https://localhost:8080/"
        },
        "id": "4xzq_e_MBKv8",
        "outputId": "8346a40b-48e7-4e3c-a7f0-e5ba320890c8"
      },
      "execution_count": null,
      "outputs": [
        {
          "output_type": "stream",
          "name": "stdout",
          "text": [
            "zello Morld\n"
          ]
        }
      ]
    },
    {
      "cell_type": "code",
      "source": [
        "greet=\"hello world\"\n",
        "print(greet[::-1])"
      ],
      "metadata": {
        "colab": {
          "base_uri": "https://localhost:8080/"
        },
        "id": "rKIoX4m_DyCF",
        "outputId": "8f64138a-852f-4bc0-a4be-eb962a8b6033"
      },
      "execution_count": null,
      "outputs": [
        {
          "output_type": "stream",
          "name": "stdout",
          "text": [
            "dlrow olleh\n"
          ]
        }
      ]
    },
    {
      "cell_type": "code",
      "source": [
        "a=2\n",
        "b=3\n",
        "sol=a**2+b**2+2*a*b\n",
        "print(sol)"
      ],
      "metadata": {
        "colab": {
          "base_uri": "https://localhost:8080/"
        },
        "id": "MlrVjKJNEWS2",
        "outputId": "6e821d8b-823c-4f90-b113-a5633154cd95"
      },
      "execution_count": null,
      "outputs": [
        {
          "output_type": "stream",
          "name": "stdout",
          "text": [
            "25\n"
          ]
        }
      ]
    },
    {
      "cell_type": "code",
      "source": [
        "a=int(input(\"Sub 1=\"))\n",
        "b=int(input(\"Sub 2=\"))\n",
        "c=int(input(\"Sub 3=\"))\n",
        "d=int(input(\"Sub 4=\"))\n",
        "e=int(input(\"Sub 5=\"))\n",
        "sum=a+b+c+d+e\n",
        "print(\"Percentage=\", (sum/500) *100)"
      ],
      "metadata": {
        "colab": {
          "base_uri": "https://localhost:8080/"
        },
        "id": "onLKiD2cHdOa",
        "outputId": "d8e31546-ab4a-43de-ef98-2ffba1e75714"
      },
      "execution_count": null,
      "outputs": [
        {
          "output_type": "stream",
          "name": "stdout",
          "text": [
            "Sub 1=77\n",
            "Sub 2=88\n",
            "Sub 3=99\n",
            "Sub 4=55\n",
            "Sub 5=66\n",
            "Percentage= 77.0\n"
          ]
        }
      ]
    }
  ]
}