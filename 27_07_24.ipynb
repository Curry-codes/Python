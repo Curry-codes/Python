{
  "nbformat": 4,
  "nbformat_minor": 0,
  "metadata": {
    "colab": {
      "provenance": [],
      "authorship_tag": "ABX9TyP6joSoKqOzBi4xgxBJB/63",
      "include_colab_link": true
    },
    "kernelspec": {
      "name": "python3",
      "display_name": "Python 3"
    },
    "language_info": {
      "name": "python"
    }
  },
  "cells": [
    {
      "cell_type": "markdown",
      "metadata": {
        "id": "view-in-github",
        "colab_type": "text"
      },
      "source": [
        "<a href=\"https://colab.research.google.com/github/Curry-codes/Python/blob/main/27_07_24.ipynb\" target=\"_parent\"><img src=\"https://colab.research.google.com/assets/colab-badge.svg\" alt=\"Open In Colab\"/></a>"
      ]
    },
    {
      "cell_type": "code",
      "execution_count": 1,
      "metadata": {
        "colab": {
          "base_uri": "https://localhost:8080/"
        },
        "id": "fc2Bt_sQ1hJD",
        "outputId": "6587b9e4-d6a8-4e45-e3f6-aa388bda7ed1"
      },
      "outputs": [
        {
          "output_type": "stream",
          "name": "stdout",
          "text": [
            "enter first name:Carisma\n",
            "enter middle name:George\n",
            "enter last name:Peringottukarakaran\n",
            "Carisma George Peringottukarakaran\n"
          ]
        }
      ],
      "source": [
        "\n",
        "fname=input(\"enter first name:\")\n",
        "mname=input(\"enter middle name:\")\n",
        "lname=input(\"enter last name:\")\n",
        "print(fname,mname,lname)"
      ]
    },
    {
      "cell_type": "code",
      "source": [
        "\n",
        "fname=input(\"enter first name:\")\n",
        "mname=input(\"enter middle name:\")\n",
        "lname=input(\"enter last name:\")\n",
        "\" \".join([fname,mname,lname])"
      ],
      "metadata": {
        "colab": {
          "base_uri": "https://localhost:8080/",
          "height": 105
        },
        "id": "LiuvMkv710Ur",
        "outputId": "abf540b1-cca3-469f-bbe1-280fbbeb7c03"
      },
      "execution_count": 2,
      "outputs": [
        {
          "name": "stdout",
          "output_type": "stream",
          "text": [
            "enter first name:Carisma\n",
            "enter middle name:George\n",
            "enter last name:Peringottukarakaran\n"
          ]
        },
        {
          "output_type": "execute_result",
          "data": {
            "text/plain": [
              "'Carisma George Peringottukarakaran'"
            ],
            "application/vnd.google.colaboratory.intrinsic+json": {
              "type": "string"
            }
          },
          "metadata": {},
          "execution_count": 2
        }
      ]
    },
    {
      "cell_type": "code",
      "source": [
        "\n",
        "email=input(\"enter email:\")\n",
        "if email.endswith(\"com\"):\n",
        " print(\"valid\")\n",
        "elif email.endswith(\"edu\"):\n",
        " print(\"valid\")\n",
        "elif email.endswith(\"org\"):\n",
        " print(\"valid\")\n",
        "elif email.endswith(\"in\"):\n",
        " print(\"valid\")\n",
        "else:\n",
        " print(\"invalid\")"
      ],
      "metadata": {
        "colab": {
          "base_uri": "https://localhost:8080/"
        },
        "id": "c2ZGran01_Rq",
        "outputId": "b0c396ea-d2e1-4f33-ef18-a828a9d7c45b"
      },
      "execution_count": 3,
      "outputs": [
        {
          "output_type": "stream",
          "name": "stdout",
          "text": [
            "enter email:carismageorge@gmail.or\n",
            "invalid\n"
          ]
        }
      ]
    },
    {
      "cell_type": "code",
      "source": [
        "\n",
        "name=input(\"enter first name:\")\n",
        "name=name.upper()\n",
        "a=name[0:4]\n",
        "dob=input(\"DDMMYYYY:\")\n",
        "b=dob[0:4]\n",
        "password=a+b\n",
        "print(password)"
      ],
      "metadata": {
        "colab": {
          "base_uri": "https://localhost:8080/"
        },
        "id": "o31CUfhs2O71",
        "outputId": "48f2a44e-8949-4699-cef8-f5533e77646e"
      },
      "execution_count": 4,
      "outputs": [
        {
          "output_type": "stream",
          "name": "stdout",
          "text": [
            "enter first name:Carisma\n",
            "DDMMYYYY:18072000\n",
            "CARI1807\n"
          ]
        }
      ]
    }
  ]
}