{
  "nbformat": 4,
  "nbformat_minor": 0,
  "metadata": {
    "colab": {
      "provenance": [],
      "authorship_tag": "ABX9TyNrXbxjv77C0E5TM92h3/7x",
      "include_colab_link": true
    },
    "kernelspec": {
      "name": "python3",
      "display_name": "Python 3"
    },
    "language_info": {
      "name": "python"
    }
  },
  "cells": [
    {
      "cell_type": "markdown",
      "metadata": {
        "id": "view-in-github",
        "colab_type": "text"
      },
      "source": [
        "<a href=\"https://colab.research.google.com/github/Curry-codes/Python/blob/main/29_06_24.ipynb\" target=\"_parent\"><img src=\"https://colab.research.google.com/assets/colab-badge.svg\" alt=\"Open In Colab\"/></a>"
      ]
    },
    {
      "cell_type": "code",
      "execution_count": null,
      "metadata": {
        "colab": {
          "base_uri": "https://localhost:8080/"
        },
        "id": "7OYu7gePwcby",
        "outputId": "c3dcef0a-266c-4720-dbe7-1da1b51a53f2"
      },
      "outputs": [
        {
          "output_type": "stream",
          "name": "stdout",
          "text": [
            "test\n",
            "1\n",
            "2\n",
            "3\n"
          ]
        }
      ],
      "source": [
        "li=[\"test\", 1,2,3]\n",
        "for i in li :\n",
        " print(i)"
      ]
    },
    {
      "cell_type": "code",
      "source": [
        "for i in range(1 , 11):\n",
        " print(i)"
      ],
      "metadata": {
        "colab": {
          "base_uri": "https://localhost:8080/"
        },
        "id": "8JiCY6TPxTGR",
        "outputId": "496963df-bb0a-4c9d-d61f-ff78e7052c30"
      },
      "execution_count": null,
      "outputs": [
        {
          "output_type": "stream",
          "name": "stdout",
          "text": [
            "1\n",
            "2\n",
            "3\n",
            "4\n",
            "5\n",
            "6\n",
            "7\n",
            "8\n",
            "9\n",
            "10\n"
          ]
        }
      ]
    },
    {
      "cell_type": "code",
      "source": [
        "for i in range (0, 11,2):\n",
        " print (i)"
      ],
      "metadata": {
        "colab": {
          "base_uri": "https://localhost:8080/"
        },
        "id": "FfgDEDdpy82T",
        "outputId": "304f199e-983a-41ff-aa40-87ce48c8ad1d"
      },
      "execution_count": null,
      "outputs": [
        {
          "output_type": "stream",
          "name": "stdout",
          "text": [
            "0\n",
            "2\n",
            "4\n",
            "6\n",
            "8\n",
            "10\n"
          ]
        }
      ]
    },
    {
      "cell_type": "code",
      "source": [
        "for i in range (0, 101,5):\n",
        " print (i)"
      ],
      "metadata": {
        "colab": {
          "base_uri": "https://localhost:8080/"
        },
        "id": "kTubnsBBzeOu",
        "outputId": "dfb7ced3-7395-4f0a-98fb-7c4392d591b2"
      },
      "execution_count": null,
      "outputs": [
        {
          "output_type": "stream",
          "name": "stdout",
          "text": [
            "0\n",
            "5\n",
            "10\n",
            "15\n",
            "20\n",
            "25\n",
            "30\n",
            "35\n",
            "40\n",
            "45\n",
            "50\n",
            "55\n",
            "60\n",
            "65\n",
            "70\n",
            "75\n",
            "80\n",
            "85\n",
            "90\n",
            "95\n",
            "100\n"
          ]
        }
      ]
    },
    {
      "cell_type": "code",
      "source": [
        "i=0\n",
        "while i in range(0, 11):\n",
        " print(i)\n",
        " i=i+1"
      ],
      "metadata": {
        "colab": {
          "base_uri": "https://localhost:8080/"
        },
        "id": "ljleZLmN0Es8",
        "outputId": "3fe4c9c4-af30-48ed-d9d4-457361966a87"
      },
      "execution_count": null,
      "outputs": [
        {
          "output_type": "stream",
          "name": "stdout",
          "text": [
            "0\n",
            "1\n",
            "2\n",
            "3\n",
            "4\n",
            "5\n",
            "6\n",
            "7\n",
            "8\n",
            "9\n",
            "10\n"
          ]
        }
      ]
    },
    {
      "cell_type": "code",
      "source": [
        "city=[\"A\", \"B\", \"C\"]\n",
        "for i in city:\n",
        "  print(\"I love\", i)"
      ],
      "metadata": {
        "colab": {
          "base_uri": "https://localhost:8080/"
        },
        "id": "j0OohYb73P6X",
        "outputId": "987db95b-5722-4529-a53a-0297c19a1b62"
      },
      "execution_count": null,
      "outputs": [
        {
          "output_type": "stream",
          "name": "stdout",
          "text": [
            "I love A\n",
            "I love B\n",
            "I love C\n"
          ]
        }
      ]
    },
    {
      "cell_type": "code",
      "source": [
        "city=[\"Pune\", \"Mumbai\"]\n",
        "for i in range(len(city)) :\n",
        " print(\"I love\", city[i])"
      ],
      "metadata": {
        "colab": {
          "base_uri": "https://localhost:8080/"
        },
        "id": "Fj9LHt1f3wQ6",
        "outputId": "3e804ba3-b407-4291-f65c-2c5c8c71e5fb"
      },
      "execution_count": null,
      "outputs": [
        {
          "output_type": "stream",
          "name": "stdout",
          "text": [
            "I love Pune\n",
            "I love Mumbai\n"
          ]
        }
      ]
    },
    {
      "cell_type": "code",
      "source": [
        "for i in range(10) :\n",
        " print (i)\n",
        "else :\n",
        " print(\"Loop ended\")"
      ],
      "metadata": {
        "colab": {
          "base_uri": "https://localhost:8080/"
        },
        "id": "oqde6Xx25R93",
        "outputId": "ea93faa5-e658-4ee9-8394-25633bd8e668"
      },
      "execution_count": null,
      "outputs": [
        {
          "output_type": "stream",
          "name": "stdout",
          "text": [
            "0\n",
            "1\n",
            "2\n",
            "3\n",
            "4\n",
            "5\n",
            "6\n",
            "7\n",
            "8\n",
            "9\n",
            "Loop ended\n"
          ]
        }
      ]
    },
    {
      "cell_type": "code",
      "source": [
        "for i in range(10) :\n",
        " print(i)\n",
        " if (i==8) :\n",
        "  break\n",
        " else:\n",
        "  print(\"Ended\")"
      ],
      "metadata": {
        "colab": {
          "base_uri": "https://localhost:8080/"
        },
        "id": "GsDiKPfo64fL",
        "outputId": "bcfacb21-10ea-4ca4-b178-419c0ef46281"
      },
      "execution_count": null,
      "outputs": [
        {
          "output_type": "stream",
          "name": "stdout",
          "text": [
            "0\n",
            "Ended\n",
            "1\n",
            "Ended\n",
            "2\n",
            "Ended\n",
            "3\n",
            "Ended\n",
            "4\n",
            "Ended\n",
            "5\n",
            "Ended\n",
            "6\n",
            "Ended\n",
            "7\n",
            "Ended\n",
            "8\n"
          ]
        }
      ]
    },
    {
      "cell_type": "code",
      "source": [
        "counter=0\n",
        "while counter<3 :\n",
        "  print(\"while loop no\", counter)\n",
        "  counter= counter+1\n",
        "else :\n",
        "  print (\"while loop ended\")"
      ],
      "metadata": {
        "colab": {
          "base_uri": "https://localhost:8080/"
        },
        "id": "HzZtrejs9YTo",
        "outputId": "0e20eb81-79da-4b75-88c8-91886f8d91a3"
      },
      "execution_count": null,
      "outputs": [
        {
          "output_type": "stream",
          "name": "stdout",
          "text": [
            "while loop no 0\n",
            "while loop no 1\n",
            "while loop no 2\n",
            "while loop ended\n"
          ]
        }
      ]
    },
    {
      "cell_type": "code",
      "source": [
        "a=int(input(\"Enter No:\"))\n",
        "for i in range(1,11):\n",
        "  print(a, \"x\", i, \"=\", a*i)"
      ],
      "metadata": {
        "colab": {
          "base_uri": "https://localhost:8080/"
        },
        "id": "2jTH9cVx_SD1",
        "outputId": "3dded64b-181d-434d-af9e-1fe0a56dd2d3"
      },
      "execution_count": null,
      "outputs": [
        {
          "output_type": "stream",
          "name": "stdout",
          "text": [
            "Enter No:9\n",
            "9 x 1 = 9\n",
            "9 x 2 = 18\n",
            "9 x 3 = 27\n",
            "9 x 4 = 36\n",
            "9 x 5 = 45\n",
            "9 x 6 = 54\n",
            "9 x 7 = 63\n",
            "9 x 8 = 72\n",
            "9 x 9 = 81\n",
            "9 x 10 = 90\n"
          ]
        }
      ]
    },
    {
      "cell_type": "code",
      "source": [
        "a=int(input(\"Enter No:\"))\n",
        "i=0\n",
        "while i<10 :\n",
        " i=i+1\n",
        " print(a, \"x\", i, \"=\", a*i)"
      ],
      "metadata": {
        "colab": {
          "base_uri": "https://localhost:8080/"
        },
        "id": "IvtC_xM0BURT",
        "outputId": "7c61e030-af4a-46d8-ad32-4106e22cdb71"
      },
      "execution_count": null,
      "outputs": [
        {
          "output_type": "stream",
          "name": "stdout",
          "text": [
            "Enter No:9\n",
            "9 x 1 = 9\n",
            "9 x 2 = 18\n",
            "9 x 3 = 27\n",
            "9 x 4 = 36\n",
            "9 x 5 = 45\n",
            "9 x 6 = 54\n",
            "9 x 7 = 63\n",
            "9 x 8 = 72\n",
            "9 x 9 = 81\n",
            "9 x 10 = 90\n"
          ]
        }
      ]
    },
    {
      "cell_type": "code",
      "source": [
        "a=int(input(\"Enter No:\"))\n",
        "while i in range(1,11):\n",
        " print(a, \"x\", i, \"=\", a*i)\n",
        " i=i+1"
      ],
      "metadata": {
        "colab": {
          "base_uri": "https://localhost:8080/"
        },
        "id": "mc_mhVTlDw4S",
        "outputId": "00f5af35-5d2c-4e19-d44a-ad49155cb751"
      },
      "execution_count": null,
      "outputs": [
        {
          "name": "stdout",
          "output_type": "stream",
          "text": [
            "Enter No:7\n"
          ]
        }
      ]
    },
    {
      "cell_type": "code",
      "source": [
        "a=int(input(\"Enter No:\"))\n",
        "if a>10:\n",
        " print(\"Re-enter no between 1 to 10\")\n",
        "else:\n",
        " i=0\n",
        " while i in range (0,11) :\n",
        "  print(a, \"x\", i, \"=\", a*i)\n",
        "  i=i+1"
      ],
      "metadata": {
        "colab": {
          "base_uri": "https://localhost:8080/"
        },
        "id": "9ytUg3VuEMo5",
        "outputId": "419f0d85-5b92-4037-c190-2b7465d4b9e1"
      },
      "execution_count": null,
      "outputs": [
        {
          "output_type": "stream",
          "name": "stdout",
          "text": [
            "Enter No:80\n",
            "Re-enter no between 1 to 10\n"
          ]
        }
      ]
    }
  ]
}