{
  "nbformat": 4,
  "nbformat_minor": 0,
  "metadata": {
    "colab": {
      "provenance": [],
      "authorship_tag": "ABX9TyMa/2OD+mwuTGClPmf3AShT",
      "include_colab_link": true
    },
    "kernelspec": {
      "name": "python3",
      "display_name": "Python 3"
    },
    "language_info": {
      "name": "python"
    }
  },
  "cells": [
    {
      "cell_type": "markdown",
      "metadata": {
        "id": "view-in-github",
        "colab_type": "text"
      },
      "source": [
        "<a href=\"https://colab.research.google.com/github/Curry-codes/Python/blob/main/20_06_24.ipynb\" target=\"_parent\"><img src=\"https://colab.research.google.com/assets/colab-badge.svg\" alt=\"Open In Colab\"/></a>"
      ]
    },
    {
      "cell_type": "code",
      "execution_count": null,
      "metadata": {
        "colab": {
          "base_uri": "https://localhost:8080/"
        },
        "id": "3SFIO02uk8h8",
        "outputId": "c150b8fc-37e4-47cc-a5ed-dd03d642ae2c"
      },
      "outputs": [
        {
          "output_type": "stream",
          "name": "stdout",
          "text": [
            "Not eligible\n",
            "Apply later\n"
          ]
        }
      ],
      "source": [
        "age=16\n",
        "if age > 18 :\n",
        " print ('Eligible') ;\n",
        "else :\n",
        " print ('Not eligible') ;\n",
        "print ('Apply later')"
      ]
    },
    {
      "cell_type": "code",
      "source": [
        "a=int(input('Enter no 1 ='))\n",
        "b=int(input('Enter no 2 ='))\n",
        "if a>b :\n",
        "  print('No 1 is greater');\n",
        "else :\n",
        "  print('No 2 is greater');"
      ],
      "metadata": {
        "colab": {
          "base_uri": "https://localhost:8080/"
        },
        "id": "h3uZLvOMmECE",
        "outputId": "bbff7155-4fcf-4c56-8791-b0d40fbd7277"
      },
      "execution_count": null,
      "outputs": [
        {
          "output_type": "stream",
          "name": "stdout",
          "text": [
            "Enter no 1 =27\n",
            "Enter no 2 =69\n",
            "No 2 is greater\n"
          ]
        }
      ]
    },
    {
      "cell_type": "code",
      "source": [
        "a=int(input('Enter no 1 ='))\n",
        "b=int(input('Enter no 2 ='))\n",
        "if a>b :\n",
        "  print('No 1 is greater');\n",
        "elif a<b :\n",
        "  print('No 2 is greater');\n",
        "else :\n",
        "  print('Both are equal') ;"
      ],
      "metadata": {
        "colab": {
          "base_uri": "https://localhost:8080/"
        },
        "id": "JSBvFqnyoKMl",
        "outputId": "500d6c7c-5abf-47a2-b1d6-ed17848d72f2"
      },
      "execution_count": null,
      "outputs": [
        {
          "output_type": "stream",
          "name": "stdout",
          "text": [
            "Enter no 1 =2\n",
            "Enter no 2 =2\n",
            "Both are equal\n"
          ]
        }
      ]
    },
    {
      "cell_type": "code",
      "source": [
        "a=10\n",
        "b='Message'\n",
        "if a:=b :\n",
        "  print ('Successful') ;\n",
        "else :\n",
        "  print ('Not Successful') ;"
      ],
      "metadata": {
        "colab": {
          "base_uri": "https://localhost:8080/"
        },
        "id": "1w4fO0-XpAX-",
        "outputId": "91399887-0024-464d-dfe4-7554841fa87f"
      },
      "execution_count": null,
      "outputs": [
        {
          "output_type": "stream",
          "name": "stdout",
          "text": [
            "Successful\n"
          ]
        }
      ]
    },
    {
      "cell_type": "code",
      "source": [
        "s1=int(input('Sub 1='))\n",
        "s2=int(input('Sub 2='))\n",
        "s3=int(input('Sub 3='))\n",
        "s4=int(input('Sub 4='))\n",
        "s5=int(input('Sub 5='))\n",
        "sum=s1+s2+s3+s4+s5\n",
        "percentage=sum/5\n",
        "print('Percentage=',percentage)\n",
        "if percentage<35 :\n",
        " print('Pass class') ;\n",
        "elif (40<percentage<60) :\n",
        " print ('Second Class') ;\n",
        "elif (60<percentage<75) :\n",
        " print ('First Class') ;\n",
        "else :\n",
        " print ('Distinction') ;"
      ],
      "metadata": {
        "colab": {
          "base_uri": "https://localhost:8080/"
        },
        "id": "0vjLDwCZq9Tg",
        "outputId": "ba6588d9-c951-476c-a6c1-0e8a781aa3c9"
      },
      "execution_count": null,
      "outputs": [
        {
          "output_type": "stream",
          "name": "stdout",
          "text": [
            "Sub 1=55\n",
            "Sub 2=66\n",
            "Sub 3=77\n",
            "Sub 4=88\n",
            "Sub 5=99\n",
            "Percentage= 77.0\n",
            "Distinction\n"
          ]
        }
      ]
    }
  ]
}