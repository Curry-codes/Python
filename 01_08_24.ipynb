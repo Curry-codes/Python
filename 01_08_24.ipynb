{
  "nbformat": 4,
  "nbformat_minor": 0,
  "metadata": {
    "colab": {
      "provenance": [],
      "authorship_tag": "ABX9TyNJEkizs+iJDIkrXN9ktOTW",
      "include_colab_link": true
    },
    "kernelspec": {
      "name": "python3",
      "display_name": "Python 3"
    },
    "language_info": {
      "name": "python"
    }
  },
  "cells": [
    {
      "cell_type": "markdown",
      "metadata": {
        "id": "view-in-github",
        "colab_type": "text"
      },
      "source": [
        "<a href=\"https://colab.research.google.com/github/Curry-codes/Python/blob/main/01_08_24.ipynb\" target=\"_parent\"><img src=\"https://colab.research.google.com/assets/colab-badge.svg\" alt=\"Open In Colab\"/></a>"
      ]
    },
    {
      "cell_type": "code",
      "execution_count": null,
      "metadata": {
        "colab": {
          "base_uri": "https://localhost:8080/"
        },
        "id": "L5YO3Rs82We0",
        "outputId": "c9b9726b-0a9e-4185-9b8c-4aabfd54490a"
      },
      "outputs": [
        {
          "output_type": "stream",
          "name": "stdout",
          "text": [
            "G\n",
            "o\n",
            " \n",
            "S\n",
            "p\n",
            "o\n",
            "t\n",
            " \n",
            "G\n",
            "o\n"
          ]
        }
      ],
      "source": [
        "\n",
        "for char in \"Go Spot Go\":\n",
        " print(char)"
      ]
    },
    {
      "cell_type": "code",
      "source": [
        "\n",
        "s = \"python rocks\"\n",
        "for ch in s:\n",
        " print(\"HELLO\")"
      ],
      "metadata": {
        "colab": {
          "base_uri": "https://localhost:8080/"
        },
        "id": "iQ_vdaZJ22zl",
        "outputId": "0dd8d900-bc77-4825-b398-376c55112562"
      },
      "execution_count": null,
      "outputs": [
        {
          "output_type": "stream",
          "name": "stdout",
          "text": [
            "HELLO\n",
            "HELLO\n",
            "HELLO\n",
            "HELLO\n",
            "HELLO\n",
            "HELLO\n",
            "HELLO\n",
            "HELLO\n",
            "HELLO\n",
            "HELLO\n",
            "HELLO\n",
            "HELLO\n"
          ]
        }
      ]
    },
    {
      "cell_type": "code",
      "source": [
        "\n",
        "s = \"python rocks\"\n",
        "for ch in s[3:8]:\n",
        " print(\"HELLO\")"
      ],
      "metadata": {
        "colab": {
          "base_uri": "https://localhost:8080/"
        },
        "id": "LAjK3HsU3DQ3",
        "outputId": "8af56cda-a0f4-442c-d3ca-30513d11cdee"
      },
      "execution_count": null,
      "outputs": [
        {
          "output_type": "stream",
          "name": "stdout",
          "text": [
            "HELLO\n",
            "HELLO\n",
            "HELLO\n",
            "HELLO\n",
            "HELLO\n"
          ]
        }
      ]
    },
    {
      "cell_type": "code",
      "source": [
        "\n",
        "s = \"python rocks\"\n",
        "S1= s[::-1]\n",
        "print(S1)"
      ],
      "metadata": {
        "colab": {
          "base_uri": "https://localhost:8080/"
        },
        "id": "9QRvpPfc3Z66",
        "outputId": "abbc483e-d75e-478c-9cdd-322e413b2837"
      },
      "execution_count": null,
      "outputs": [
        {
          "output_type": "stream",
          "name": "stdout",
          "text": [
            "skcor nohtyp\n"
          ]
        }
      ]
    },
    {
      "cell_type": "code",
      "source": [
        "s=\"Hello World\"\n",
        "print(\"J\"+s[1:6]+\"M\"+s[7:])"
      ],
      "metadata": {
        "colab": {
          "base_uri": "https://localhost:8080/"
        },
        "id": "_fvzmTMX420X",
        "outputId": "fb344bfb-8b4a-4839-ee80-04b47086dc80"
      },
      "execution_count": null,
      "outputs": [
        {
          "output_type": "stream",
          "name": "stdout",
          "text": [
            "Jello Morld\n"
          ]
        }
      ]
    },
    {
      "cell_type": "code",
      "source": [
        "P=\"Hello world\"\n",
        "print(P[0::2])\n",
        "print(P[:7:2])\n",
        "print(P[:-1:])\n",
        "print(P[:1:-1])"
      ],
      "metadata": {
        "colab": {
          "base_uri": "https://localhost:8080/"
        },
        "id": "0ke1qah65Y7s",
        "outputId": "58fe2355-ab14-4591-a633-ce77ec35d474"
      },
      "execution_count": null,
      "outputs": [
        {
          "output_type": "stream",
          "name": "stdout",
          "text": [
            "Hlowrd\n",
            "Hlow\n",
            "Hello worl\n",
            "dlrow oll\n"
          ]
        }
      ]
    },
    {
      "cell_type": "code",
      "source": [
        "l1=[10,20,30,40,50]\n",
        "print (l1[0])\n",
        "l1[0]=100\n",
        "print (l1[0])"
      ],
      "metadata": {
        "colab": {
          "base_uri": "https://localhost:8080/"
        },
        "id": "4fZIqmwZ8Hqu",
        "outputId": "dc67df05-c26b-4f38-835c-ea6f2ec33d6a"
      },
      "execution_count": null,
      "outputs": [
        {
          "output_type": "stream",
          "name": "stdout",
          "text": [
            "10\n",
            "100\n"
          ]
        }
      ]
    },
    {
      "cell_type": "code",
      "source": [
        "s=\"Hello \"\n",
        "print (s[0])\n",
        "s[0]=\"T\"\n",
        "print(s[0])"
      ],
      "metadata": {
        "colab": {
          "base_uri": "https://localhost:8080/",
          "height": 297
        },
        "id": "LDZl-J038vTm",
        "outputId": "f0662f26-f52b-43ef-a4c4-f7c35b2b4d4f"
      },
      "execution_count": null,
      "outputs": [
        {
          "output_type": "stream",
          "name": "stdout",
          "text": [
            "H\n"
          ]
        },
        {
          "output_type": "error",
          "ename": "TypeError",
          "evalue": "'str' object does not support item assignment",
          "traceback": [
            "\u001b[0;31m---------------------------------------------------------------------------\u001b[0m",
            "\u001b[0;31mTypeError\u001b[0m                                 Traceback (most recent call last)",
            "\u001b[0;32m<ipython-input-38-4c02b92fc3e5>\u001b[0m in \u001b[0;36m<cell line: 3>\u001b[0;34m()\u001b[0m\n\u001b[1;32m      1\u001b[0m \u001b[0ms\u001b[0m\u001b[0;34m=\u001b[0m\u001b[0;34m\"Hello \"\u001b[0m\u001b[0;34m\u001b[0m\u001b[0;34m\u001b[0m\u001b[0m\n\u001b[1;32m      2\u001b[0m \u001b[0mprint\u001b[0m \u001b[0;34m(\u001b[0m\u001b[0ms\u001b[0m\u001b[0;34m[\u001b[0m\u001b[0;36m0\u001b[0m\u001b[0;34m]\u001b[0m\u001b[0;34m)\u001b[0m\u001b[0;34m\u001b[0m\u001b[0;34m\u001b[0m\u001b[0m\n\u001b[0;32m----> 3\u001b[0;31m \u001b[0ms\u001b[0m\u001b[0;34m[\u001b[0m\u001b[0;36m0\u001b[0m\u001b[0;34m]\u001b[0m\u001b[0;34m=\u001b[0m\u001b[0;34m\"T\"\u001b[0m\u001b[0;34m\u001b[0m\u001b[0;34m\u001b[0m\u001b[0m\n\u001b[0m\u001b[1;32m      4\u001b[0m \u001b[0mprint\u001b[0m\u001b[0;34m(\u001b[0m\u001b[0ms\u001b[0m\u001b[0;34m[\u001b[0m\u001b[0;36m0\u001b[0m\u001b[0;34m]\u001b[0m\u001b[0;34m)\u001b[0m\u001b[0;34m\u001b[0m\u001b[0;34m\u001b[0m\u001b[0m\n",
            "\u001b[0;31mTypeError\u001b[0m: 'str' object does not support item assignment"
          ]
        }
      ]
    },
    {
      "cell_type": "code",
      "source": [
        "s=\"Hello\"\n",
        "print (s[0])\n",
        "s1=\"T\"+s[1:]\n",
        "print(s1)"
      ],
      "metadata": {
        "colab": {
          "base_uri": "https://localhost:8080/"
        },
        "id": "m5j21odj9fYn",
        "outputId": "e825d61d-1b44-4389-cb1b-a0b03d458dcc"
      },
      "execution_count": null,
      "outputs": [
        {
          "output_type": "stream",
          "name": "stdout",
          "text": [
            "H\n",
            "Tello\n"
          ]
        }
      ]
    },
    {
      "cell_type": "code",
      "source": [
        "s=\"Raheja College\"\n",
        "def find():\n",
        " for j in s[::]:\n",
        "  print(j)\n",
        "  if j == 'h':\n",
        "    print(\"found h\")\n",
        "    print(\"index of h : \",s.index(\"h\"))\n",
        "  else:\n",
        "    print(\"!not found\")\n",
        "find()"
      ],
      "metadata": {
        "colab": {
          "base_uri": "https://localhost:8080/"
        },
        "id": "bssoqdsE-VLj",
        "outputId": "030bf814-3267-405d-d347-842d2f005743"
      },
      "execution_count": null,
      "outputs": [
        {
          "output_type": "stream",
          "name": "stdout",
          "text": [
            "R\n",
            "!not found\n",
            "a\n",
            "!not found\n",
            "h\n",
            "found h\n",
            "index of h :  2\n",
            "e\n",
            "!not found\n",
            "j\n",
            "!not found\n",
            "a\n",
            "!not found\n",
            " \n",
            "!not found\n",
            "C\n",
            "!not found\n",
            "o\n",
            "!not found\n",
            "l\n",
            "!not found\n",
            "l\n",
            "!not found\n",
            "e\n",
            "!not found\n",
            "g\n",
            "!not found\n",
            "e\n",
            "!not found\n"
          ]
        }
      ]
    },
    {
      "cell_type": "code",
      "source": [
        "s=\"Raheja College\"\n",
        "def find():\n",
        " for j in s:\n",
        "  if(j==\"h\"):\n",
        "    print(s)"
      ],
      "metadata": {
        "id": "b25PB7VjBFNw"
      },
      "execution_count": null,
      "outputs": []
    },
    {
      "cell_type": "code",
      "source": [
        "\n",
        "s = \"peanutttt butter\"\n",
        "def a ():\n",
        " count = 0\n",
        " for char in s:\n",
        "  if char == \"t\":\n",
        "    count = count + 1\n",
        " print(count)\n",
        "\n",
        "a()"
      ],
      "metadata": {
        "colab": {
          "base_uri": "https://localhost:8080/"
        },
        "id": "appZZrDYB9hu",
        "outputId": "59e25670-5e22-4dbf-9f3b-14ccac2cfa74"
      },
      "execution_count": null,
      "outputs": [
        {
          "output_type": "stream",
          "name": "stdout",
          "text": [
            "6\n"
          ]
        }
      ]
    }
  ]
}