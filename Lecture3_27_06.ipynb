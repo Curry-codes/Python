{
  "nbformat": 4,
  "nbformat_minor": 0,
  "metadata": {
    "colab": {
      "provenance": [],
      "authorship_tag": "ABX9TyOPqb1A8LXkdwd4+dLeg7yF",
      "include_colab_link": true
    },
    "kernelspec": {
      "name": "python3",
      "display_name": "Python 3"
    },
    "language_info": {
      "name": "python"
    }
  },
  "cells": [
    {
      "cell_type": "markdown",
      "metadata": {
        "id": "view-in-github",
        "colab_type": "text"
      },
      "source": [
        "<a href=\"https://colab.research.google.com/github/Curry-codes/Python/blob/main/Lecture3_27_06.ipynb\" target=\"_parent\"><img src=\"https://colab.research.google.com/assets/colab-badge.svg\" alt=\"Open In Colab\"/></a>"
      ]
    },
    {
      "cell_type": "code",
      "execution_count": null,
      "metadata": {
        "id": "WoQMAJm5ggIn"
      },
      "outputs": [],
      "source": [
        "age=int(input(\"Enter your age:\"))\n",
        "if age >16 or age >18:\n",
        " print(\"Eligible for part time job\")\n",
        "elif age >18 or age > 65:\n",
        " print(\"Eligible for full time job\")\n",
        "elif age < 0:\n",
        " print (\"Negative\")\n",
        "else :\n",
        " print (\"Invalid\")"
      ]
    },
    {
      "cell_type": "code",
      "source": [
        "a=30\n",
        "b=39\n",
        "print(a) if a>b else print(b)"
      ],
      "metadata": {
        "id": "xeN_MXzRjy59",
        "colab": {
          "base_uri": "https://localhost:8080/"
        },
        "outputId": "3a47f33a-8f4d-45fa-9efe-682a4b3d8ff3"
      },
      "execution_count": null,
      "outputs": [
        {
          "output_type": "stream",
          "name": "stdout",
          "text": [
            "39\n"
          ]
        }
      ]
    },
    {
      "cell_type": "code",
      "source": [
        "age=int(input(\"Enter your age:\"))\n",
        "print(\"Eligible for PT\") if 16<=age<18 else print (\"Eligible for FT\") if (18<age < 65) else print(\"Invalid\") if (100<age<0) else print (\"Invalid\")"
      ],
      "metadata": {
        "colab": {
          "base_uri": "https://localhost:8080/"
        },
        "id": "q5jvy8wtkiJo",
        "outputId": "5cdde939-7ef1-4b04-c64c-065b20001e3c"
      },
      "execution_count": null,
      "outputs": [
        {
          "output_type": "stream",
          "name": "stdout",
          "text": [
            "Enter your age:-8\n",
            "Invalid\n"
          ]
        }
      ]
    },
    {
      "cell_type": "code",
      "source": [
        "num=float(input(\"Enter number:\"))\n",
        "if num >= 0:\n",
        " if num == 0 :\n",
        "  print (\"Zero\")\n",
        " else :\n",
        "  print(\"Positive number\")\n",
        "else :\n",
        "  print(\"Negative number\")"
      ],
      "metadata": {
        "colab": {
          "base_uri": "https://localhost:8080/"
        },
        "id": "UICO9CYro-wk",
        "outputId": "7bc80577-d3f1-44d1-b902-d9ef9c4b4d42"
      },
      "execution_count": null,
      "outputs": [
        {
          "output_type": "stream",
          "name": "stdout",
          "text": [
            "Enter number:-8\n",
            "Negative number\n"
          ]
        }
      ]
    },
    {
      "cell_type": "code",
      "source": [],
      "metadata": {
        "id": "Q-gIs96Txogu"
      },
      "execution_count": null,
      "outputs": []
    },
    {
      "cell_type": "code",
      "source": [
        "\n",
        "a=int(input(\"select 1 or 2: \"))\n",
        "if(a==1):\n",
        " budget=int(input(\"enter budget: \"))\n",
        "if(20000<=budget<=30000):\n",
        "  print(\"vivo,iqoo\")\n",
        "elif(30000<budget<60000):\n",
        "  print(\"oneplus,samsung\")\n",
        "else:\n",
        "  print(\"not available\")\n",
        "elif(a==2):\n",
        " budget=int(input(\"enter budget: \"))\n",
        "if(50000>=budget):\n",
        "  print(\"hp,asus,acer\")\n",
        "elif(50000<budget<=100000):\n",
        "  print(\"dell,lenovo\")\n",
        "elif(budget>150000):\n",
        "  print(\"apple\")\n",
        "else:\n",
        "  print(\"not available\")\n",
        "else:\n",
        " print(\"invalid no\")"
      ],
      "metadata": {
        "colab": {
          "base_uri": "https://localhost:8080/",
          "height": 124
        },
        "id": "O5UtZW7PqxGW",
        "outputId": "52570d86-1b3f-4d2b-f56c-ef1fbb013ee7"
      },
      "execution_count": null,
      "outputs": [
        {
          "output_type": "error",
          "ename": "SyntaxError",
          "evalue": "invalid syntax (<ipython-input-32-c589d3387040>, line 10)",
          "traceback": [
            "\u001b[0;36m  File \u001b[0;32m\"<ipython-input-32-c589d3387040>\"\u001b[0;36m, line \u001b[0;32m10\u001b[0m\n\u001b[0;31m    elif(a==2):\u001b[0m\n\u001b[0m    ^\u001b[0m\n\u001b[0;31mSyntaxError\u001b[0m\u001b[0;31m:\u001b[0m invalid syntax\n"
          ]
        }
      ]
    },
    {
      "cell_type": "code",
      "source": [
        "choice=input(\"Brekky, Lunch, Dinner:\")\n",
        "if (choice==\"Brekky\") :\n",
        " food=input(\"SI or NI:\")\n",
        "  if(food==\"SI\") :\n",
        "   choice=input(\"Idli Or Dosa\")\n",
        "    if (choice==idli) :\n",
        "     print(\"You've ordered Idli\")\n",
        "else:\n",
        "print (\"Continue\")"
      ],
      "metadata": {
        "colab": {
          "base_uri": "https://localhost:8080/",
          "height": 124
        },
        "id": "P76duM1mxqYn",
        "outputId": "3d001810-f5a9-4f62-d253-5c9f23ea31ff"
      },
      "execution_count": null,
      "outputs": [
        {
          "output_type": "error",
          "ename": "IndentationError",
          "evalue": "unexpected indent (<ipython-input-35-ec90abab49fa>, line 4)",
          "traceback": [
            "\u001b[0;36m  File \u001b[0;32m\"<ipython-input-35-ec90abab49fa>\"\u001b[0;36m, line \u001b[0;32m4\u001b[0m\n\u001b[0;31m    if(food==\"SI\") :\u001b[0m\n\u001b[0m    ^\u001b[0m\n\u001b[0;31mIndentationError\u001b[0m\u001b[0;31m:\u001b[0m unexpected indent\n"
          ]
        }
      ]
    }
  ]
}